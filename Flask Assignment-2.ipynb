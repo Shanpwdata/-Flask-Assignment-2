{
 "cells": [
  {
   "cell_type": "markdown",
   "id": "0f6122a5-658a-434a-bb40-b51aa977a545",
   "metadata": {},
   "source": [
    "Q1. Explain GET and POST methods."
   ]
  },
  {
   "cell_type": "markdown",
   "id": "316bb4b6-2b5e-4c03-b19f-22e375d95406",
   "metadata": {},
   "source": [
    "#Ans_1.\n",
    "GET is used for retrieving data from the server. Data is included in the URL as query parameters. It's idempotent and does not modify server data.\n",
    "POST is used for submitting data to the server. Data is included in the request body. It's not idempotent and can modify server data."
   ]
  },
  {
   "cell_type": "markdown",
   "id": "cd393d6d-02cd-4792-98bf-a9f0f8d62c6f",
   "metadata": {},
   "source": [
    "Q2. Why is request used in Flask?"
   ]
  },
  {
   "cell_type": "markdown",
   "id": "a9f73084-0b73-43d0-a116-32cb01d1c019",
   "metadata": {},
   "source": [
    "#Ans_2.\n",
    "The Flask Request Object is used to perform both sending and receiving operations from a user's browser to the server and process the request data from the server"
   ]
  },
  {
   "cell_type": "markdown",
   "id": "73ddf6fb-0c69-4d9d-b515-8a9f61de9100",
   "metadata": {},
   "source": [
    "Q3. Why is redirect() used in Flask?"
   ]
  },
  {
   "cell_type": "markdown",
   "id": "7b73c0f1-3c21-4354-9986-a89eff8bbd32",
   "metadata": {},
   "source": [
    "#Ans_3.\n",
    "Flask redirect is defined as a function or utility in Flask which allows developers to redirect users to a specified URL and assign a specified status code."
   ]
  },
  {
   "cell_type": "markdown",
   "id": "52c29231-59c1-47d0-9623-39b5f9d44f45",
   "metadata": {},
   "source": [
    "Q4. What are templates in Flask? Why is the render_template() function used?"
   ]
  },
  {
   "cell_type": "markdown",
   "id": "5b64062f-281c-4ccd-b0b9-280f85216a18",
   "metadata": {},
   "source": [
    "#Ans_4.\n",
    "Templates are files that contain static data as well as placeholders for dynamic data. A template is rendered with specific data to produce a final document. Flask uses the template library to render templates and templates to render HTML which will display in the user's browser.\n",
    "The render_template() function in Flask is used to render these templates and generate dynamic HTML pages. This function takes the name of the template file as an argument and can also accept additional arguments that provide data to be injected into the template."
   ]
  },
  {
   "cell_type": "markdown",
   "id": "764d3676-2b2a-4cbc-b750-63d013ee916f",
   "metadata": {},
   "source": [
    "Q5. Create a simple API. Use Postman to test it. Attach the screenshot of the output in the Jupyter Notebook."
   ]
  },
  {
   "cell_type": "code",
   "execution_count": null,
   "id": "182fd680-5a35-4527-828e-1234863658d6",
   "metadata": {},
   "outputs": [],
   "source": [
    "#Ans_5.\n",
    "from flask import Flask, request, render_template, jsonify\n",
    "\n",
    "app = Flask(__name__)\n",
    "\n",
    "@app.route('/',methods=['GET','POST'])\n",
    "def home_page():\n",
    "    return render_template('index.html')\n",
    "\n",
    "@app.route('/math', methods = ['POST'])\n",
    "def math_operation():\n",
    "    if (request.method == 'POST'):\n",
    "        ops = request.form['operation']\n",
    "        num1 = int(request.form['num1'])\n",
    "        num2 = int(request.form['num2'])\n",
    "        if (ops == 'add'):\n",
    "            r = num1 + num2\n",
    "            result = 'The sum of ' + str(num1) + 'and' + str(num2) + 'is' + str(r)\n",
    "        if (ops == 'subtract'):\n",
    "            r = num1 - num2\n",
    "            result = 'The subtraction of ' + str(num1) + 'and' + str(num2) + 'is' + str(r)\n",
    "        if (ops == 'multiply'):\n",
    "            r = num1 * num2\n",
    "            result = 'The multiplication of ' + str(num1) + 'and' + str(num2) + 'is' + str(r)\n",
    "        if (ops == 'divide'):\n",
    "            r = num1 / num2\n",
    "            result = 'The divition of ' + str(num1) + 'and' + str(num2) + 'is' + str(r)\n",
    "        return render_template('results.html', result = result)\n",
    "\n",
    "@app.route('/postman_data', methods = ['POST'])\n",
    "def math_operation1():\n",
    "    if (request.method == 'POST'):\n",
    "        ops = request.json['operation']\n",
    "        num1 = int(request.json['num1'])\n",
    "        num2 = int(request.json['num2'])\n",
    "        if (ops == 'add'):\n",
    "            r = num1 + num2\n",
    "            result = 'The sum of ' + str(num1) + 'and' + str(num2) + 'is' + str(r)\n",
    "        if (ops == 'subtract'):\n",
    "            r = num1 - num2\n",
    "            result = 'The subtraction of ' + str(num1) + 'and' + str(num2) + 'is' + str(r)\n",
    "        if (ops == 'multiply'):\n",
    "            r = num1 * num2\n",
    "            result = 'The multiplication of ' + str(num1) + 'and' + str(num2) + 'is' + str(r)\n",
    "        if (ops == 'divide'):\n",
    "            r = num1 / num2\n",
    "            result = 'The divition of ' + str(num1) + 'and' + str(num2) + 'is' + str(r)\n",
    "        return jsonify(result)\n",
    "\n",
    "\n",
    "if __name__==\"__main__\":\n",
    "    app.run(host=\"0.0.0.0\")"
   ]
  },
  {
   "cell_type": "code",
   "execution_count": null,
   "id": "bf8581f0-a967-48e2-9d50-04290fb4cd1e",
   "metadata": {},
   "outputs": [],
   "source": [
    "https://drive.google.com/file/d/1TWUCfnzl82vqjYS1AbURCopeeqRrWbwu/view?usp=sharing"
   ]
  }
 ],
 "metadata": {
  "kernelspec": {
   "display_name": "Python 3 (ipykernel)",
   "language": "python",
   "name": "python3"
  },
  "language_info": {
   "codemirror_mode": {
    "name": "ipython",
    "version": 3
   },
   "file_extension": ".py",
   "mimetype": "text/x-python",
   "name": "python",
   "nbconvert_exporter": "python",
   "pygments_lexer": "ipython3",
   "version": "3.10.8"
  }
 },
 "nbformat": 4,
 "nbformat_minor": 5
}
